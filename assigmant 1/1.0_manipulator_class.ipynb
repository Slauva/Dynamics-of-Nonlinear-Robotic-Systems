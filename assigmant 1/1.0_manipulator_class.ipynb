{
 "cells": [
  {
   "cell_type": "code",
   "execution_count": 66,
   "metadata": {},
   "outputs": [],
   "source": [
    "import matplotlib.pyplot as plt\n",
    "import numpy as np\n",
    "import sympy as sp\n",
    "from sympy.physics.vector import dynamicsymbols"
   ]
  },
  {
   "cell_type": "code",
   "execution_count": 73,
   "metadata": {},
   "outputs": [],
   "source": [
    "class Transformation:\n",
    "    \n",
    "    @staticmethod\n",
    "    def rotate_x(angle: int | float | sp.Symbol) -> sp.Matrix:\n",
    "        rot = sp.eye(4, 4)\n",
    "        rot[1:3, 1:3] = sp.Matrix([\n",
    "            [sp.cos(angle), -sp.sin(angle)],\n",
    "            [sp.sin(angle), sp.cos(angle)]\n",
    "        ])\n",
    "        return rot\n",
    "    \n",
    "    @staticmethod\n",
    "    def rotate_z(angle: int | float | sp.Symbol) -> sp.Matrix:\n",
    "        rot = sp.eye(4, 4)\n",
    "        rot[0:2, 0:2] = sp.Matrix([\n",
    "            [sp.cos(angle), -sp.sin(angle)],\n",
    "            [sp.sin(angle), sp.cos(angle)]\n",
    "        ])\n",
    "        return rot\n",
    "    \n",
    "    @staticmethod\n",
    "    def rotate_y(angle: int | float | sp.Symbol) -> sp.Matrix:\n",
    "        rot = sp.eye(4, 4)\n",
    "        rot[0, 0:3] = sp.Matrix([sp.cos(angle), 0, sp.sin(angle)]).T\n",
    "        rot[2, 0:3] = sp.Matrix([-sp.sin(angle), 0, sp.cos(angle)]).T\n",
    "        return rot\n",
    "    \n",
    "    @staticmethod\n",
    "    def translate(pos: sp.Matrix | np.ndarray | list) -> sp.Matrix:\n",
    "        rot = sp.eye(4, 4)\n",
    "        rot[0:3, 3] = pos\n",
    "        return rot\n",
    "    \n",
    "    \n",
    "    def link(self, angle_z: int | float | sp.Symbol, dist_z: int | float | sp.Symbol, angle_x: int | float | sp.Symbol, dist_x: int | float | sp.Symbol) -> sp.Matrix:\n",
    "        return self.rotate_z(angle_z) @ self.translate([0, 0, dist_z]) @ self.rotate_x(angle_x) @ self.translate([dist_x, 0, 0])\n",
    "\n",
    "\n",
    "class Robot(Transformation):\n",
    "    \n",
    "    def __init__(self) -> None:\n",
    "        self.links: list[sp.Matrix] = []\n",
    "    \n",
    "    def add_link(self, angle_z: int | float | sp.Symbol, dist_z: int | float | sp.Symbol, angle_x: int | float | sp.Symbol, dist_x: int | float | sp.Symbol) -> \"Robot\":\n",
    "        link = self.rotate_z(angle_z) @ self.translate([0, 0, dist_z]) @ self.rotate_x(angle_x) @ self.translate([dist_x, 0, 0])\n",
    "        self.links.append(link)\n",
    "        return self\n",
    "    \n",
    "    def forward(self) -> sp.Matrix:\n",
    "        T = sp.eye(4, 4)\n",
    "        for link in self.links:\n",
    "            T = T @ link\n",
    "        return sp.simplify(T)"
   ]
  },
  {
   "cell_type": "code",
   "execution_count": 78,
   "metadata": {},
   "outputs": [],
   "source": [
    "q = dynamicsymbols(\"q_{1:7}\")\n",
    "x, y, z = sp.symbols(\"x, y, z\")\n",
    "\n",
    "robot = Robot()\n",
    "T = robot\\\n",
    "    .add_link(q[0], 0, 0, 0)\\\n",
    "    .add_link(q[1], 0, -sp.pi / 2, 0)\\\n",
    "    .add_link(q[2], sp.symbols(\"d_3\"), 0, sp.symbols(\"a_2\"))\\\n",
    "    .add_link(q[3], sp.symbols(\"d_4\"), -sp.pi / 2, sp.symbols(\"a_3\"))\\\n",
    "    .add_link(q[4], 0, sp.pi / 2, 0)\\\n",
    "    .add_link(q[5], 0, -sp.pi / 2, 0)\\\n",
    "    .forward()"
   ]
  },
  {
   "cell_type": "code",
   "execution_count": 84,
   "metadata": {},
   "outputs": [
    {
     "data": {
      "text/latex": [
       "$\\displaystyle \\left[\\begin{matrix}- \\sin{\\left(q_{4}{\\left(t \\right)} \\right)} \\sin{\\left(q_{6}{\\left(t \\right)} \\right)} + \\cos{\\left(q_{4}{\\left(t \\right)} \\right)} \\cos{\\left(q_{5}{\\left(t \\right)} \\right)} \\cos{\\left(q_{6}{\\left(t \\right)} \\right)} & - \\sin{\\left(q_{5}{\\left(t \\right)} \\right)} \\cos{\\left(q_{4}{\\left(t \\right)} \\right)} & - \\sin{\\left(q_{4}{\\left(t \\right)} \\right)} \\cos{\\left(q_{6}{\\left(t \\right)} \\right)} - \\sin{\\left(q_{6}{\\left(t \\right)} \\right)} \\cos{\\left(q_{4}{\\left(t \\right)} \\right)} \\cos{\\left(q_{5}{\\left(t \\right)} \\right)}\\\\\\sin{\\left(q_{4}{\\left(t \\right)} \\right)} \\cos{\\left(q_{5}{\\left(t \\right)} \\right)} \\cos{\\left(q_{6}{\\left(t \\right)} \\right)} + \\sin{\\left(q_{6}{\\left(t \\right)} \\right)} \\cos{\\left(q_{4}{\\left(t \\right)} \\right)} & - \\sin{\\left(q_{4}{\\left(t \\right)} \\right)} \\sin{\\left(q_{5}{\\left(t \\right)} \\right)} & - \\sin{\\left(q_{4}{\\left(t \\right)} \\right)} \\sin{\\left(q_{6}{\\left(t \\right)} \\right)} \\cos{\\left(q_{5}{\\left(t \\right)} \\right)} + \\cos{\\left(q_{4}{\\left(t \\right)} \\right)} \\cos{\\left(q_{6}{\\left(t \\right)} \\right)}\\\\- \\sin{\\left(q_{5}{\\left(t \\right)} \\right)} \\cos{\\left(q_{6}{\\left(t \\right)} \\right)} & - \\cos{\\left(q_{5}{\\left(t \\right)} \\right)} & \\sin{\\left(q_{5}{\\left(t \\right)} \\right)} \\sin{\\left(q_{6}{\\left(t \\right)} \\right)}\\end{matrix}\\right]$"
      ],
      "text/plain": [
       "Matrix([\n",
       "[-sin(q_{4}(t))*sin(q_{6}(t)) + cos(q_{4}(t))*cos(q_{5}(t))*cos(q_{6}(t)), -sin(q_{5}(t))*cos(q_{4}(t)), -sin(q_{4}(t))*cos(q_{6}(t)) - sin(q_{6}(t))*cos(q_{4}(t))*cos(q_{5}(t))],\n",
       "[ sin(q_{4}(t))*cos(q_{5}(t))*cos(q_{6}(t)) + sin(q_{6}(t))*cos(q_{4}(t)), -sin(q_{4}(t))*sin(q_{5}(t)), -sin(q_{4}(t))*sin(q_{6}(t))*cos(q_{5}(t)) + cos(q_{4}(t))*cos(q_{6}(t))],\n",
       "[                                            -sin(q_{5}(t))*cos(q_{6}(t)),               -cos(q_{5}(t)),                                              sin(q_{5}(t))*sin(q_{6}(t))]])"
      ]
     },
     "execution_count": 84,
     "metadata": {},
     "output_type": "execute_result"
    }
   ],
   "source": [
    "sp.simplify(robot.links[-3] @ robot.links[-2] @ robot.links[-1])[0:3, 0:3]"
   ]
  },
  {
   "cell_type": "code",
   "execution_count": 87,
   "metadata": {},
   "outputs": [],
   "source": [
    "def check_euler(q1, q2, q3, pattern):\n",
    "    T = sp.eye(4, 4)\n",
    "    for a, l in zip([q1, q2, q3], list(pattern)):\n",
    "        if l == \"x\":\n",
    "            T = T @ Transformation.rotate_x(a)\n",
    "        if l == \"y\":\n",
    "            T = T @ Transformation.rotate_y(a)\n",
    "        if l == \"z\":\n",
    "            T = T @ Transformation.rotate_z(a)\n",
    "    return sp.simplify(T)[0:3, 0:3]"
   ]
  },
  {
   "cell_type": "code",
   "execution_count": 109,
   "metadata": {},
   "outputs": [
    {
     "data": {
      "text/latex": [
       "$\\displaystyle \\left[\\begin{matrix}- \\sin{\\left(q_{4}{\\left(t \\right)} \\right)} \\sin{\\left(q_{6}{\\left(t \\right)} \\right)} \\cos{\\left(q_{5}{\\left(t \\right)} \\right)} + \\cos{\\left(q_{4}{\\left(t \\right)} \\right)} \\cos{\\left(q_{6}{\\left(t \\right)} \\right)} & - \\sin{\\left(q_{4}{\\left(t \\right)} \\right)} \\cos{\\left(q_{5}{\\left(t \\right)} \\right)} \\cos{\\left(q_{6}{\\left(t \\right)} \\right)} - \\sin{\\left(q_{6}{\\left(t \\right)} \\right)} \\cos{\\left(q_{4}{\\left(t \\right)} \\right)} & \\sin{\\left(q_{4}{\\left(t \\right)} \\right)} \\sin{\\left(q_{5}{\\left(t \\right)} \\right)}\\\\\\sin{\\left(q_{4}{\\left(t \\right)} \\right)} \\cos{\\left(q_{6}{\\left(t \\right)} \\right)} + \\sin{\\left(q_{6}{\\left(t \\right)} \\right)} \\cos{\\left(q_{4}{\\left(t \\right)} \\right)} \\cos{\\left(q_{5}{\\left(t \\right)} \\right)} & - \\sin{\\left(q_{4}{\\left(t \\right)} \\right)} \\sin{\\left(q_{6}{\\left(t \\right)} \\right)} + \\cos{\\left(q_{4}{\\left(t \\right)} \\right)} \\cos{\\left(q_{5}{\\left(t \\right)} \\right)} \\cos{\\left(q_{6}{\\left(t \\right)} \\right)} & - \\sin{\\left(q_{5}{\\left(t \\right)} \\right)} \\cos{\\left(q_{4}{\\left(t \\right)} \\right)}\\\\\\sin{\\left(q_{5}{\\left(t \\right)} \\right)} \\sin{\\left(q_{6}{\\left(t \\right)} \\right)} & \\sin{\\left(q_{5}{\\left(t \\right)} \\right)} \\cos{\\left(q_{6}{\\left(t \\right)} \\right)} & \\cos{\\left(q_{5}{\\left(t \\right)} \\right)}\\end{matrix}\\right]$"
      ],
      "text/plain": [
       "Matrix([\n",
       "[-sin(q_{4}(t))*sin(q_{6}(t))*cos(q_{5}(t)) + cos(q_{4}(t))*cos(q_{6}(t)), -sin(q_{4}(t))*cos(q_{5}(t))*cos(q_{6}(t)) - sin(q_{6}(t))*cos(q_{4}(t)),  sin(q_{4}(t))*sin(q_{5}(t))],\n",
       "[ sin(q_{4}(t))*cos(q_{6}(t)) + sin(q_{6}(t))*cos(q_{4}(t))*cos(q_{5}(t)), -sin(q_{4}(t))*sin(q_{6}(t)) + cos(q_{4}(t))*cos(q_{5}(t))*cos(q_{6}(t)), -sin(q_{5}(t))*cos(q_{4}(t))],\n",
       "[                                             sin(q_{5}(t))*sin(q_{6}(t)),                                              sin(q_{5}(t))*cos(q_{6}(t)),                cos(q_{5}(t))]])"
      ]
     },
     "execution_count": 109,
     "metadata": {},
     "output_type": "execute_result"
    }
   ],
   "source": [
    "check_euler(q[-3], q[-2], q[-1], \"zxz\")"
   ]
  },
  {
   "cell_type": "code",
   "execution_count": 111,
   "metadata": {},
   "outputs": [
    {
     "data": {
      "text/latex": [
       "$\\displaystyle \\left[\\begin{matrix}a_{2} \\cos{\\left(q_{1}{\\left(t \\right)} + q_{2}{\\left(t \\right)} \\right)} \\cos{\\left(q_{3}{\\left(t \\right)} \\right)} + a_{3} \\cos{\\left(q_{1}{\\left(t \\right)} + q_{2}{\\left(t \\right)} \\right)} \\cos{\\left(q_{3}{\\left(t \\right)} + q_{4}{\\left(t \\right)} \\right)} - d_{3} \\sin{\\left(q_{1}{\\left(t \\right)} + q_{2}{\\left(t \\right)} \\right)} - d_{4} \\sin{\\left(q_{1}{\\left(t \\right)} + q_{2}{\\left(t \\right)} \\right)}\\\\a_{2} \\sin{\\left(q_{1}{\\left(t \\right)} + q_{2}{\\left(t \\right)} \\right)} \\cos{\\left(q_{3}{\\left(t \\right)} \\right)} + a_{3} \\sin{\\left(q_{1}{\\left(t \\right)} + q_{2}{\\left(t \\right)} \\right)} \\cos{\\left(q_{3}{\\left(t \\right)} + q_{4}{\\left(t \\right)} \\right)} + d_{3} \\cos{\\left(q_{1}{\\left(t \\right)} + q_{2}{\\left(t \\right)} \\right)} + d_{4} \\cos{\\left(q_{1}{\\left(t \\right)} + q_{2}{\\left(t \\right)} \\right)}\\\\- a_{2} \\sin{\\left(q_{3}{\\left(t \\right)} \\right)} - a_{3} \\sin{\\left(q_{3}{\\left(t \\right)} + q_{4}{\\left(t \\right)} \\right)}\\end{matrix}\\right]$"
      ],
      "text/plain": [
       "Matrix([\n",
       "[a_2*cos(q_{1}(t) + q_{2}(t))*cos(q_{3}(t)) + a_3*cos(q_{1}(t) + q_{2}(t))*cos(q_{3}(t) + q_{4}(t)) - d_3*sin(q_{1}(t) + q_{2}(t)) - d_4*sin(q_{1}(t) + q_{2}(t))],\n",
       "[a_2*sin(q_{1}(t) + q_{2}(t))*cos(q_{3}(t)) + a_3*sin(q_{1}(t) + q_{2}(t))*cos(q_{3}(t) + q_{4}(t)) + d_3*cos(q_{1}(t) + q_{2}(t)) + d_4*cos(q_{1}(t) + q_{2}(t))],\n",
       "[                                                                                                               -a_2*sin(q_{3}(t)) - a_3*sin(q_{3}(t) + q_{4}(t))]])"
      ]
     },
     "execution_count": 111,
     "metadata": {},
     "output_type": "execute_result"
    }
   ],
   "source": [
    "T[:3, 3]"
   ]
  }
 ],
 "metadata": {
  "kernelspec": {
   "display_name": "venv",
   "language": "python",
   "name": "python3"
  },
  "language_info": {
   "codemirror_mode": {
    "name": "ipython",
    "version": 3
   },
   "file_extension": ".py",
   "mimetype": "text/x-python",
   "name": "python",
   "nbconvert_exporter": "python",
   "pygments_lexer": "ipython3",
   "version": "3.11.8"
  }
 },
 "nbformat": 4,
 "nbformat_minor": 2
}
