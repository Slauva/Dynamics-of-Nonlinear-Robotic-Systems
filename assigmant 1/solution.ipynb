{
 "cells": [
  {
   "cell_type": "code",
   "execution_count": 1,
   "metadata": {},
   "outputs": [],
   "source": [
    "import matplotlib.pyplot as plt\n",
    "import numpy as np\n",
    "import sympy as sp\n",
    "from sympy.physics.vector import dynamicsymbols"
   ]
  },
  {
   "cell_type": "code",
   "execution_count": 2,
   "metadata": {},
   "outputs": [],
   "source": [
    "class Transformation:\n",
    "    \n",
    "    @staticmethod\n",
    "    def rotate_x(angle: int | float | sp.Symbol) -> sp.Matrix:\n",
    "        rot = sp.eye(4, 4)\n",
    "        rot[1:3, 1:3] = sp.Matrix([\n",
    "            [sp.cos(angle), -sp.sin(angle)],\n",
    "            [sp.sin(angle), sp.cos(angle)]\n",
    "        ])\n",
    "        return rot\n",
    "    \n",
    "    @staticmethod\n",
    "    def rotate_z(angle: int | float | sp.Symbol) -> sp.Matrix:\n",
    "        rot = sp.eye(4, 4)\n",
    "        rot[0:2, 0:2] = sp.Matrix([\n",
    "            [sp.cos(angle), -sp.sin(angle)],\n",
    "            [sp.sin(angle), sp.cos(angle)]\n",
    "        ])\n",
    "        return rot\n",
    "    \n",
    "    @staticmethod\n",
    "    def rotate_y(angle: int | float | sp.Symbol) -> sp.Matrix:\n",
    "        rot = sp.eye(4, 4)\n",
    "        rot[0, 0:3] = sp.Matrix([sp.cos(angle), 0, sp.sin(angle)]).T\n",
    "        rot[2, 0:3] = sp.Matrix([-sp.sin(angle), 0, sp.cos(angle)]).T\n",
    "        return rot\n",
    "    \n",
    "    @staticmethod\n",
    "    def translate(pos: sp.Matrix | np.ndarray | list) -> sp.Matrix:\n",
    "        rot = sp.eye(4, 4)\n",
    "        rot[0:3, 3] = pos\n",
    "        return rot"
   ]
  },
  {
   "cell_type": "markdown",
   "metadata": {},
   "source": [
    "## Forward Kinematic solution for Puma 560\n",
    "\n",
    "\n",
    "![](./forward.jpg)\n"
   ]
  },
  {
   "cell_type": "markdown",
   "metadata": {},
   "source": [
    "For wrist part of manipulator we will use Euler angles `ZXZ`\n",
    "\n",
    "Then we will have the FK like that:\n",
    "\n",
    "$$\n",
    "T(q_{1-6}) = R_z(q_1) T_z(L_1) R_y(-\\frac{\\pi}{2}) R_z(q_2) T_z(L_2) T_x(-L_3) R_z(q_3) T_z(-L_4) T_x(-L_5) R_y(\\frac{\\pi}{2}) R_z(q_4) R_x(q_5) R_z(q_6) \n",
    "$$"
   ]
  },
  {
   "cell_type": "code",
   "execution_count": 103,
   "metadata": {},
   "outputs": [],
   "source": [
    "# Lenghts of the arm\n",
    "l = sp.symbols(\"L_{1:6}\")\n",
    "\n",
    "# Dynamic parameters of rotation\n",
    "q = dynamicsymbols(\"q_{1:7}\")\n",
    "\n",
    "T = sp.simplify(\n",
    "    Transformation.rotate_z(q[0]) @ Transformation.rotate_y(- sp.pi / 2) \\\n",
    "        @ Transformation.rotate_z(q[1]) @ Transformation.translate([0, 0, l[1]]) @ Transformation.translate([-l[2], 0, 0]) \\\n",
    "            @ Transformation.rotate_z(q[2]) @ Transformation.translate([0, 0, -l[3]]) @ Transformation.translate([-l[4], 0, 0]) @ Transformation.rotate_y(sp.pi / 2) \\\n",
    "                @ Transformation.rotate_z(q[3]) @ Transformation.rotate_x(q[4]) @ Transformation.rotate_z(q[5])\n",
    ")"
   ]
  },
  {
   "cell_type": "markdown",
   "metadata": {},
   "source": [
    "### Rotation matrix of FK"
   ]
  },
  {
   "cell_type": "code",
   "execution_count": 104,
   "metadata": {},
   "outputs": [
    {
     "data": {
      "text/latex": [
       "$\\displaystyle \\left[\\begin{matrix}- \\left(\\left(\\sin{\\left(q_{1}{\\left(t \\right)} \\right)} \\cos{\\left(q_{2}{\\left(t \\right)} + q_{3}{\\left(t \\right)} \\right)} \\cos{\\left(q_{4}{\\left(t \\right)} \\right)} + \\sin{\\left(q_{4}{\\left(t \\right)} \\right)} \\cos{\\left(q_{1}{\\left(t \\right)} \\right)}\\right) \\cos{\\left(q_{5}{\\left(t \\right)} \\right)} + \\sin{\\left(q_{2}{\\left(t \\right)} + q_{3}{\\left(t \\right)} \\right)} \\sin{\\left(q_{1}{\\left(t \\right)} \\right)} \\sin{\\left(q_{5}{\\left(t \\right)} \\right)}\\right) \\sin{\\left(q_{6}{\\left(t \\right)} \\right)} - \\left(\\sin{\\left(q_{1}{\\left(t \\right)} \\right)} \\sin{\\left(q_{4}{\\left(t \\right)} \\right)} \\cos{\\left(q_{2}{\\left(t \\right)} + q_{3}{\\left(t \\right)} \\right)} - \\cos{\\left(q_{1}{\\left(t \\right)} \\right)} \\cos{\\left(q_{4}{\\left(t \\right)} \\right)}\\right) \\cos{\\left(q_{6}{\\left(t \\right)} \\right)} & - \\left(\\left(\\sin{\\left(q_{1}{\\left(t \\right)} \\right)} \\cos{\\left(q_{2}{\\left(t \\right)} + q_{3}{\\left(t \\right)} \\right)} \\cos{\\left(q_{4}{\\left(t \\right)} \\right)} + \\sin{\\left(q_{4}{\\left(t \\right)} \\right)} \\cos{\\left(q_{1}{\\left(t \\right)} \\right)}\\right) \\cos{\\left(q_{5}{\\left(t \\right)} \\right)} + \\sin{\\left(q_{2}{\\left(t \\right)} + q_{3}{\\left(t \\right)} \\right)} \\sin{\\left(q_{1}{\\left(t \\right)} \\right)} \\sin{\\left(q_{5}{\\left(t \\right)} \\right)}\\right) \\cos{\\left(q_{6}{\\left(t \\right)} \\right)} + \\left(\\sin{\\left(q_{1}{\\left(t \\right)} \\right)} \\sin{\\left(q_{4}{\\left(t \\right)} \\right)} \\cos{\\left(q_{2}{\\left(t \\right)} + q_{3}{\\left(t \\right)} \\right)} - \\cos{\\left(q_{1}{\\left(t \\right)} \\right)} \\cos{\\left(q_{4}{\\left(t \\right)} \\right)}\\right) \\sin{\\left(q_{6}{\\left(t \\right)} \\right)} & \\left(\\sin{\\left(q_{1}{\\left(t \\right)} \\right)} \\cos{\\left(q_{2}{\\left(t \\right)} + q_{3}{\\left(t \\right)} \\right)} \\cos{\\left(q_{4}{\\left(t \\right)} \\right)} + \\sin{\\left(q_{4}{\\left(t \\right)} \\right)} \\cos{\\left(q_{1}{\\left(t \\right)} \\right)}\\right) \\sin{\\left(q_{5}{\\left(t \\right)} \\right)} - \\sin{\\left(q_{2}{\\left(t \\right)} + q_{3}{\\left(t \\right)} \\right)} \\sin{\\left(q_{1}{\\left(t \\right)} \\right)} \\cos{\\left(q_{5}{\\left(t \\right)} \\right)}\\\\- \\left(\\left(\\sin{\\left(q_{1}{\\left(t \\right)} \\right)} \\sin{\\left(q_{4}{\\left(t \\right)} \\right)} - \\cos{\\left(q_{2}{\\left(t \\right)} + q_{3}{\\left(t \\right)} \\right)} \\cos{\\left(q_{1}{\\left(t \\right)} \\right)} \\cos{\\left(q_{4}{\\left(t \\right)} \\right)}\\right) \\cos{\\left(q_{5}{\\left(t \\right)} \\right)} - \\sin{\\left(q_{2}{\\left(t \\right)} + q_{3}{\\left(t \\right)} \\right)} \\sin{\\left(q_{5}{\\left(t \\right)} \\right)} \\cos{\\left(q_{1}{\\left(t \\right)} \\right)}\\right) \\sin{\\left(q_{6}{\\left(t \\right)} \\right)} + \\left(\\sin{\\left(q_{1}{\\left(t \\right)} \\right)} \\cos{\\left(q_{4}{\\left(t \\right)} \\right)} + \\sin{\\left(q_{4}{\\left(t \\right)} \\right)} \\cos{\\left(q_{2}{\\left(t \\right)} + q_{3}{\\left(t \\right)} \\right)} \\cos{\\left(q_{1}{\\left(t \\right)} \\right)}\\right) \\cos{\\left(q_{6}{\\left(t \\right)} \\right)} & - \\left(\\left(\\sin{\\left(q_{1}{\\left(t \\right)} \\right)} \\sin{\\left(q_{4}{\\left(t \\right)} \\right)} - \\cos{\\left(q_{2}{\\left(t \\right)} + q_{3}{\\left(t \\right)} \\right)} \\cos{\\left(q_{1}{\\left(t \\right)} \\right)} \\cos{\\left(q_{4}{\\left(t \\right)} \\right)}\\right) \\cos{\\left(q_{5}{\\left(t \\right)} \\right)} - \\sin{\\left(q_{2}{\\left(t \\right)} + q_{3}{\\left(t \\right)} \\right)} \\sin{\\left(q_{5}{\\left(t \\right)} \\right)} \\cos{\\left(q_{1}{\\left(t \\right)} \\right)}\\right) \\cos{\\left(q_{6}{\\left(t \\right)} \\right)} - \\left(\\sin{\\left(q_{1}{\\left(t \\right)} \\right)} \\cos{\\left(q_{4}{\\left(t \\right)} \\right)} + \\sin{\\left(q_{4}{\\left(t \\right)} \\right)} \\cos{\\left(q_{2}{\\left(t \\right)} + q_{3}{\\left(t \\right)} \\right)} \\cos{\\left(q_{1}{\\left(t \\right)} \\right)}\\right) \\sin{\\left(q_{6}{\\left(t \\right)} \\right)} & \\left(\\sin{\\left(q_{1}{\\left(t \\right)} \\right)} \\sin{\\left(q_{4}{\\left(t \\right)} \\right)} - \\cos{\\left(q_{2}{\\left(t \\right)} + q_{3}{\\left(t \\right)} \\right)} \\cos{\\left(q_{1}{\\left(t \\right)} \\right)} \\cos{\\left(q_{4}{\\left(t \\right)} \\right)}\\right) \\sin{\\left(q_{5}{\\left(t \\right)} \\right)} + \\sin{\\left(q_{2}{\\left(t \\right)} + q_{3}{\\left(t \\right)} \\right)} \\cos{\\left(q_{1}{\\left(t \\right)} \\right)} \\cos{\\left(q_{5}{\\left(t \\right)} \\right)}\\\\- \\left(\\sin{\\left(q_{2}{\\left(t \\right)} + q_{3}{\\left(t \\right)} \\right)} \\cos{\\left(q_{4}{\\left(t \\right)} \\right)} \\cos{\\left(q_{5}{\\left(t \\right)} \\right)} - \\sin{\\left(q_{5}{\\left(t \\right)} \\right)} \\cos{\\left(q_{2}{\\left(t \\right)} + q_{3}{\\left(t \\right)} \\right)}\\right) \\sin{\\left(q_{6}{\\left(t \\right)} \\right)} - \\sin{\\left(q_{2}{\\left(t \\right)} + q_{3}{\\left(t \\right)} \\right)} \\sin{\\left(q_{4}{\\left(t \\right)} \\right)} \\cos{\\left(q_{6}{\\left(t \\right)} \\right)} & - \\left(\\sin{\\left(q_{2}{\\left(t \\right)} + q_{3}{\\left(t \\right)} \\right)} \\cos{\\left(q_{4}{\\left(t \\right)} \\right)} \\cos{\\left(q_{5}{\\left(t \\right)} \\right)} - \\sin{\\left(q_{5}{\\left(t \\right)} \\right)} \\cos{\\left(q_{2}{\\left(t \\right)} + q_{3}{\\left(t \\right)} \\right)}\\right) \\cos{\\left(q_{6}{\\left(t \\right)} \\right)} + \\sin{\\left(q_{2}{\\left(t \\right)} + q_{3}{\\left(t \\right)} \\right)} \\sin{\\left(q_{4}{\\left(t \\right)} \\right)} \\sin{\\left(q_{6}{\\left(t \\right)} \\right)} & \\sin{\\left(q_{2}{\\left(t \\right)} + q_{3}{\\left(t \\right)} \\right)} \\sin{\\left(q_{5}{\\left(t \\right)} \\right)} \\cos{\\left(q_{4}{\\left(t \\right)} \\right)} + \\cos{\\left(q_{2}{\\left(t \\right)} + q_{3}{\\left(t \\right)} \\right)} \\cos{\\left(q_{5}{\\left(t \\right)} \\right)}\\end{matrix}\\right]$"
      ],
      "text/plain": [
       "Matrix([\n",
       "[-((sin(q_{1}(t))*cos(q_{2}(t) + q_{3}(t))*cos(q_{4}(t)) + sin(q_{4}(t))*cos(q_{1}(t)))*cos(q_{5}(t)) + sin(q_{2}(t) + q_{3}(t))*sin(q_{1}(t))*sin(q_{5}(t)))*sin(q_{6}(t)) - (sin(q_{1}(t))*sin(q_{4}(t))*cos(q_{2}(t) + q_{3}(t)) - cos(q_{1}(t))*cos(q_{4}(t)))*cos(q_{6}(t)), -((sin(q_{1}(t))*cos(q_{2}(t) + q_{3}(t))*cos(q_{4}(t)) + sin(q_{4}(t))*cos(q_{1}(t)))*cos(q_{5}(t)) + sin(q_{2}(t) + q_{3}(t))*sin(q_{1}(t))*sin(q_{5}(t)))*cos(q_{6}(t)) + (sin(q_{1}(t))*sin(q_{4}(t))*cos(q_{2}(t) + q_{3}(t)) - cos(q_{1}(t))*cos(q_{4}(t)))*sin(q_{6}(t)), (sin(q_{1}(t))*cos(q_{2}(t) + q_{3}(t))*cos(q_{4}(t)) + sin(q_{4}(t))*cos(q_{1}(t)))*sin(q_{5}(t)) - sin(q_{2}(t) + q_{3}(t))*sin(q_{1}(t))*cos(q_{5}(t))],\n",
       "[-((sin(q_{1}(t))*sin(q_{4}(t)) - cos(q_{2}(t) + q_{3}(t))*cos(q_{1}(t))*cos(q_{4}(t)))*cos(q_{5}(t)) - sin(q_{2}(t) + q_{3}(t))*sin(q_{5}(t))*cos(q_{1}(t)))*sin(q_{6}(t)) + (sin(q_{1}(t))*cos(q_{4}(t)) + sin(q_{4}(t))*cos(q_{2}(t) + q_{3}(t))*cos(q_{1}(t)))*cos(q_{6}(t)), -((sin(q_{1}(t))*sin(q_{4}(t)) - cos(q_{2}(t) + q_{3}(t))*cos(q_{1}(t))*cos(q_{4}(t)))*cos(q_{5}(t)) - sin(q_{2}(t) + q_{3}(t))*sin(q_{5}(t))*cos(q_{1}(t)))*cos(q_{6}(t)) - (sin(q_{1}(t))*cos(q_{4}(t)) + sin(q_{4}(t))*cos(q_{2}(t) + q_{3}(t))*cos(q_{1}(t)))*sin(q_{6}(t)), (sin(q_{1}(t))*sin(q_{4}(t)) - cos(q_{2}(t) + q_{3}(t))*cos(q_{1}(t))*cos(q_{4}(t)))*sin(q_{5}(t)) + sin(q_{2}(t) + q_{3}(t))*cos(q_{1}(t))*cos(q_{5}(t))],\n",
       "[                                                                                                          -(sin(q_{2}(t) + q_{3}(t))*cos(q_{4}(t))*cos(q_{5}(t)) - sin(q_{5}(t))*cos(q_{2}(t) + q_{3}(t)))*sin(q_{6}(t)) - sin(q_{2}(t) + q_{3}(t))*sin(q_{4}(t))*cos(q_{6}(t)),                                                                                                           -(sin(q_{2}(t) + q_{3}(t))*cos(q_{4}(t))*cos(q_{5}(t)) - sin(q_{5}(t))*cos(q_{2}(t) + q_{3}(t)))*cos(q_{6}(t)) + sin(q_{2}(t) + q_{3}(t))*sin(q_{4}(t))*sin(q_{6}(t)),                                                             sin(q_{2}(t) + q_{3}(t))*sin(q_{5}(t))*cos(q_{4}(t)) + cos(q_{2}(t) + q_{3}(t))*cos(q_{5}(t))]])"
      ]
     },
     "execution_count": 104,
     "metadata": {},
     "output_type": "execute_result"
    }
   ],
   "source": [
    "l_val = [0, 0.128, 0.432, 0.089, 0.432]\n",
    "\n",
    "R = T[0:3, 0:3]\n",
    "P = T[0:3, 3]\n",
    "\n",
    "R"
   ]
  },
  {
   "cell_type": "markdown",
   "metadata": {},
   "source": [
    "### Transition vector of FK"
   ]
  },
  {
   "cell_type": "code",
   "execution_count": 105,
   "metadata": {},
   "outputs": [
    {
     "data": {
      "text/latex": [
       "$\\displaystyle \\left[\\begin{matrix}- L_{2} \\cos{\\left(q_{1}{\\left(t \\right)} \\right)} + L_{3} \\sin{\\left(q_{1}{\\left(t \\right)} \\right)} \\sin{\\left(q_{2}{\\left(t \\right)} \\right)} + L_{4} \\cos{\\left(q_{1}{\\left(t \\right)} \\right)} + L_{5} \\sin{\\left(q_{2}{\\left(t \\right)} + q_{3}{\\left(t \\right)} \\right)} \\sin{\\left(q_{1}{\\left(t \\right)} \\right)}\\\\- L_{2} \\sin{\\left(q_{1}{\\left(t \\right)} \\right)} - L_{3} \\sin{\\left(q_{2}{\\left(t \\right)} \\right)} \\cos{\\left(q_{1}{\\left(t \\right)} \\right)} + L_{4} \\sin{\\left(q_{1}{\\left(t \\right)} \\right)} - L_{5} \\sin{\\left(q_{2}{\\left(t \\right)} + q_{3}{\\left(t \\right)} \\right)} \\cos{\\left(q_{1}{\\left(t \\right)} \\right)}\\\\- L_{3} \\cos{\\left(q_{2}{\\left(t \\right)} \\right)} - L_{5} \\cos{\\left(q_{2}{\\left(t \\right)} + q_{3}{\\left(t \\right)} \\right)}\\end{matrix}\\right]$"
      ],
      "text/plain": [
       "Matrix([\n",
       "[-L_{2}*cos(q_{1}(t)) + L_{3}*sin(q_{1}(t))*sin(q_{2}(t)) + L_{4}*cos(q_{1}(t)) + L_{5}*sin(q_{2}(t) + q_{3}(t))*sin(q_{1}(t))],\n",
       "[-L_{2}*sin(q_{1}(t)) - L_{3}*sin(q_{2}(t))*cos(q_{1}(t)) + L_{4}*sin(q_{1}(t)) - L_{5}*sin(q_{2}(t) + q_{3}(t))*cos(q_{1}(t))],\n",
       "[                                                                        -L_{3}*cos(q_{2}(t)) - L_{5}*cos(q_{2}(t) + q_{3}(t))]])"
      ]
     },
     "execution_count": 105,
     "metadata": {},
     "output_type": "execute_result"
    }
   ],
   "source": [
    "P"
   ]
  },
  {
   "cell_type": "code",
   "execution_count": 106,
   "metadata": {},
   "outputs": [],
   "source": [
    "FK = sp.lambdify(q, T.subs(zip(l, l_val)), \"numpy\")"
   ]
  },
  {
   "cell_type": "code",
   "execution_count": 107,
   "metadata": {},
   "outputs": [
    {
     "data": {
      "text/plain": [
       "array([[-0.1694222 , -0.81530496, -0.55369119,  0.49156149],\n",
       "       [ 0.68236694, -0.50241001,  0.53099863, -0.32883648],\n",
       "       [-0.71110581, -0.28785761,  0.64145656, -0.59012297],\n",
       "       [ 0.        ,  0.        ,  0.        ,  1.        ]])"
      ]
     },
     "execution_count": 107,
     "metadata": {},
     "output_type": "execute_result"
    }
   ],
   "source": [
    "fk_sol = FK(np.pi/3, np.pi/6, np.pi/6, np.pi/4, np.pi/12, np.pi/12)\n",
    "\n",
    "fk_sol"
   ]
  },
  {
   "cell_type": "markdown",
   "metadata": {},
   "source": [
    "## Solution of Inverse Kinematic (IK)\n",
    "\n",
    "![](./inverse.jpg)\n",
    "\n",
    "We have target position $p_{target} = \\begin{bmatrix} x \\\\ y \\\\ z \\end{bmatrix}$ and rotation matrix $R_{target} = \\begin{bmatrix} R_{11} & R_{12} & R_{13} \\\\ R_{21} & R_{22} & R_{23} \\\\ R_{31} & R_{32} & R_{33} \\end{bmatrix}$"
   ]
  },
  {
   "cell_type": "code",
   "execution_count": 115,
   "metadata": {},
   "outputs": [
    {
     "data": {
      "text/latex": [
       "$\\displaystyle \\left[\\begin{matrix}- \\sin{\\left(q_{4}{\\left(t \\right)} \\right)} \\sin{\\left(q_{6}{\\left(t \\right)} \\right)} \\cos{\\left(q_{5}{\\left(t \\right)} \\right)} + \\cos{\\left(q_{4}{\\left(t \\right)} \\right)} \\cos{\\left(q_{6}{\\left(t \\right)} \\right)} & - \\sin{\\left(q_{4}{\\left(t \\right)} \\right)} \\cos{\\left(q_{5}{\\left(t \\right)} \\right)} \\cos{\\left(q_{6}{\\left(t \\right)} \\right)} - \\sin{\\left(q_{6}{\\left(t \\right)} \\right)} \\cos{\\left(q_{4}{\\left(t \\right)} \\right)} & \\sin{\\left(q_{4}{\\left(t \\right)} \\right)} \\sin{\\left(q_{5}{\\left(t \\right)} \\right)}\\\\\\sin{\\left(q_{4}{\\left(t \\right)} \\right)} \\cos{\\left(q_{6}{\\left(t \\right)} \\right)} + \\sin{\\left(q_{6}{\\left(t \\right)} \\right)} \\cos{\\left(q_{4}{\\left(t \\right)} \\right)} \\cos{\\left(q_{5}{\\left(t \\right)} \\right)} & - \\sin{\\left(q_{4}{\\left(t \\right)} \\right)} \\sin{\\left(q_{6}{\\left(t \\right)} \\right)} + \\cos{\\left(q_{4}{\\left(t \\right)} \\right)} \\cos{\\left(q_{5}{\\left(t \\right)} \\right)} \\cos{\\left(q_{6}{\\left(t \\right)} \\right)} & - \\sin{\\left(q_{5}{\\left(t \\right)} \\right)} \\cos{\\left(q_{4}{\\left(t \\right)} \\right)}\\\\\\sin{\\left(q_{5}{\\left(t \\right)} \\right)} \\sin{\\left(q_{6}{\\left(t \\right)} \\right)} & \\sin{\\left(q_{5}{\\left(t \\right)} \\right)} \\cos{\\left(q_{6}{\\left(t \\right)} \\right)} & \\cos{\\left(q_{5}{\\left(t \\right)} \\right)}\\end{matrix}\\right]$"
      ],
      "text/plain": [
       "Matrix([\n",
       "[-sin(q_{4}(t))*sin(q_{6}(t))*cos(q_{5}(t)) + cos(q_{4}(t))*cos(q_{6}(t)), -sin(q_{4}(t))*cos(q_{5}(t))*cos(q_{6}(t)) - sin(q_{6}(t))*cos(q_{4}(t)),  sin(q_{4}(t))*sin(q_{5}(t))],\n",
       "[ sin(q_{4}(t))*cos(q_{6}(t)) + sin(q_{6}(t))*cos(q_{4}(t))*cos(q_{5}(t)), -sin(q_{4}(t))*sin(q_{6}(t)) + cos(q_{4}(t))*cos(q_{5}(t))*cos(q_{6}(t)), -sin(q_{5}(t))*cos(q_{4}(t))],\n",
       "[                                             sin(q_{5}(t))*sin(q_{6}(t)),                                              sin(q_{5}(t))*cos(q_{6}(t)),                cos(q_{5}(t))]])"
      ]
     },
     "execution_count": 115,
     "metadata": {},
     "output_type": "execute_result"
    }
   ],
   "source": [
    "sp.simplify(Transformation.rotate_z(q[3]) @ Transformation.rotate_x(q[4]) @ Transformation.rotate_z(q[5])) [0:3, 0:3]"
   ]
  },
  {
   "cell_type": "code",
   "execution_count": 145,
   "metadata": {},
   "outputs": [],
   "source": [
    "from math import atan, acos\n",
    "def IK(mat):\n",
    "    r = mat[0:3, 0:3]\n",
    "    x, y, z = mat[0:3, 3]\n",
    "    \n",
    "    el, wr, d = l_val[2], l_val[4], l_val[1] \n",
    "    \n",
    "    L1 = np.sqrt(x ** 2 + y ** 2)\n",
    "    L2 = np.sqrt(L1 ** 2 - d ** 2)\n",
    "    L3 = np.sqrt(L2 ** 2 + z ** 2)\n",
    "    \n",
    "    phi2 = np.atan(x / y)\n",
    "    phi3 = np.atan(L2 / d)\n",
    "    \n",
    "    theta2 = np.atan(z / L2)\n",
    "    theta3 = np.arccos((L3 ** 2 + el ** 2 - wr ** 2) / (2 * L3 * el))\n",
    "    \n",
    "    psi = 2 * np.pi - np.arccos((-L3 ** 2 + el ** 2 + wr ** 2) / (2 * wr * el))  # q3\n",
    "    theta = 2 * np.pi + (theta2 - theta3)  # q2\n",
    "    phi = np.pi - (phi2 + phi3)  # q1\n",
    "    \n",
    "    r_sol = np.array(Transformation.rotate_z(phi) @ Transformation.rotate_z(theta) @ Transformation.rotate_z(psi))[0:3, 0:3].T @ r\n",
    "    \n",
    "    q4 = atan(r_sol[0, 2] / - r_sol[1, 2])\n",
    "    q5 = acos(r_sol[2, 2])\n",
    "    q6 = atan(r_sol[2, 0] / r_sol[2, 1])\n",
    "    return np.array([phi, theta, psi, q4, q5, q6])"
   ]
  },
  {
   "cell_type": "code",
   "execution_count": 147,
   "metadata": {},
   "outputs": [],
   "source": [
    "qs = IK(fk_sol)"
   ]
  },
  {
   "cell_type": "code",
   "execution_count": 148,
   "metadata": {},
   "outputs": [
    {
     "data": {
      "text/plain": [
       "array([[-0.1694222 , -0.81530496, -0.55369119,  0.49156149],\n",
       "       [ 0.68236694, -0.50241001,  0.53099863, -0.32883648],\n",
       "       [-0.71110581, -0.28785761,  0.64145656, -0.59012297],\n",
       "       [ 0.        ,  0.        ,  0.        ,  1.        ]])"
      ]
     },
     "execution_count": 148,
     "metadata": {},
     "output_type": "execute_result"
    }
   ],
   "source": [
    "fk_sol"
   ]
  },
  {
   "cell_type": "code",
   "execution_count": 149,
   "metadata": {},
   "outputs": [
    {
     "data": {
      "text/plain": [
       "array([[-0.80978961,  0.11889212,  0.57454805, -0.02830866],\n",
       "       [-0.34228624,  0.69961183, -0.62720285, -0.18012984],\n",
       "       [-0.47653009, -0.70456224, -0.52584326,  0.18204838],\n",
       "       [ 0.        ,  0.        ,  0.        ,  1.        ]])"
      ]
     },
     "execution_count": 149,
     "metadata": {},
     "output_type": "execute_result"
    }
   ],
   "source": [
    "FK(*qs)"
   ]
  },
  {
   "cell_type": "code",
   "execution_count": 150,
   "metadata": {},
   "outputs": [
    {
     "data": {
      "text/plain": [
       "array([158.71848161, 297.2306881 , 214.28918039, -84.03985192,\n",
       "        50.09948238,  67.96176061])"
      ]
     },
     "execution_count": 150,
     "metadata": {},
     "output_type": "execute_result"
    }
   ],
   "source": [
    "np.rad2deg(qs)"
   ]
  },
  {
   "cell_type": "code",
   "execution_count": 151,
   "metadata": {},
   "outputs": [
    {
     "data": {
      "text/plain": [
       "array([60., 30., 30., 45., 15., 15.])"
      ]
     },
     "execution_count": 151,
     "metadata": {},
     "output_type": "execute_result"
    }
   ],
   "source": [
    "np.rad2deg([np.pi/3, np.pi/6, np.pi/6, np.pi/4, np.pi/12, np.pi/12])"
   ]
  }
 ],
 "metadata": {
  "kernelspec": {
   "display_name": "venv",
   "language": "python",
   "name": "python3"
  },
  "language_info": {
   "codemirror_mode": {
    "name": "ipython",
    "version": 3
   },
   "file_extension": ".py",
   "mimetype": "text/x-python",
   "name": "python",
   "nbconvert_exporter": "python",
   "pygments_lexer": "ipython3",
   "version": "3.11.8"
  }
 },
 "nbformat": 4,
 "nbformat_minor": 2
}
